{
 "cells": [
  {
   "cell_type": "code",
   "execution_count": 148,
   "metadata": {
    "collapsed": true
   },
   "outputs": [],
   "source": [
    "import pandas as pd\n",
    "\n",
    "# no missing data\n",
    "full = pd.DataFrame({\n",
    "    'swims_like_a_duck':  [0,0,1,1,0,0,1,1, 1, 1],\n",
    "    'quacks_like_a_duck': [0,1,0,1,0,1,0,1, 0, 1],\n",
    "    'duck':               [0,0,0,0,0,0,0,1, 0, 1]\n",
    "})"
   ]
  },
  {
   "cell_type": "code",
   "execution_count": 149,
   "metadata": {
    "collapsed": true
   },
   "outputs": [],
   "source": [
    "# some data is missing - denoted by -1\n",
    "with_missing = pd.DataFrame({\n",
    "    'swims_like_a_duck':  [0,0,1,1,0,0,1,1,   1, -1],\n",
    "    'quacks_like_a_duck': [0,1,0,1,0,1,0,1,  -1, -1],\n",
    "    'duck':               [0,0,0,1,0,0,0,1,   0, 1]\n",
    "})"
   ]
  },
  {
   "cell_type": "markdown",
   "metadata": {},
   "source": [
    "We expect the bayesian network to predict  \n",
    "**+1** for the missing 'swims' value  \n",
    "and  \n",
    "**0, +1** for the two missing 'quacks' value"
   ]
  },
  {
   "cell_type": "markdown",
   "metadata": {},
   "source": [
    "defining the network: unobserved variables first"
   ]
  },
  {
   "cell_type": "code",
   "execution_count": 150,
   "metadata": {
    "collapsed": false
   },
   "outputs": [],
   "source": [
    "import pymc\n",
    "# prior probabilities for swimming and quacking\n",
    "swim_prior = pymc.Uniform('P(swims)', lower=0, upper=1, size=1)\n",
    "quack_prior = pymc.Uniform('P(quacks)', lower=0, upper=1, size=1)\n",
    "\n",
    "# probability of being a duck conditional on swimming and quacking\n",
    "# (or not swimming and quacking etc.)\n",
    "p_duck_swim_quack = pymc.Uniform('P(duck | swims & quacks)', lower=0, upper=1, size=1)\n",
    "p_duck_not_swim_not_quack = pymc.Uniform('P(duck | not swims & not quacks)', lower=0, upper=1, size=1)\n",
    "p_duck_not_swim_quack = pymc.Uniform('P(duck | not swims & quacks)', lower=0, upper=1, size=1)\n",
    "p_duck_swim_not_quack = pymc.Uniform('P(duck | swims & not quacks)', lower=0, upper=1, size=1)"
   ]
  },
  {
   "cell_type": "markdown",
   "metadata": {},
   "source": [
    "Now add the observed nodes. Need to use masked arrays where there are missing values"
   ]
  },
  {
   "cell_type": "code",
   "execution_count": 151,
   "metadata": {
    "collapsed": false
   },
   "outputs": [],
   "source": [
    "import numpy as np\n",
    "swim_data = with_missing.swims_like_a_duck\n",
    "masked_swim_data = np.ma.masked_array(swim_data, swim_data == -1, fill_value=0)\n",
    "\n",
    "quack_data = with_missing.quacks_like_a_duck\n",
    "masked_quack_data = np.ma.masked_array(quack_data, quack_data == -1, fill_value=0)\n",
    "\n",
    "duck_data = with_missing.duck\n",
    "masked_duck_data = np.ma.masked_array(duck_data, duck_data == -1, fill_value=0)"
   ]
  },
  {
   "cell_type": "code",
   "execution_count": 152,
   "metadata": {
    "collapsed": false
   },
   "outputs": [
    {
     "data": {
      "text/plain": [
       "masked_array(data = [0 1 0 1 0 1 0 1 -- --],\n",
       "             mask = [False False False False False False False False  True  True],\n",
       "       fill_value = 0)"
      ]
     },
     "execution_count": 152,
     "metadata": {},
     "output_type": "execute_result"
    }
   ],
   "source": [
    "masked_quack_data"
   ]
  },
  {
   "cell_type": "code",
   "execution_count": 153,
   "metadata": {
    "collapsed": true
   },
   "outputs": [],
   "source": [
    "# number of animal observations\n",
    "n = len(with_missing)\n",
    "\n",
    "swims = pymc.Bernoulli('swims', p=swim_prior, observed=True, value=masked_swim_data, size=n)\n",
    "quacks = pymc.Bernoulli('quacks', p=quack_prior, observed=True, value=masked_quack_data, size=n)"
   ]
  },
  {
   "cell_type": "code",
   "execution_count": 154,
   "metadata": {
    "collapsed": false
   },
   "outputs": [],
   "source": [
    "# auxiliary pymc variable - probability of duck\n",
    "@pymc.deterministic\n",
    "def duck_probability(\n",
    "        swims=swims, \n",
    "        quacks=quacks, \n",
    "        p_duck_swim_quack=p_duck_swim_quack,\n",
    "        p_duck_not_swim_quack=p_duck_not_swim_quack, \n",
    "        p_duck_swim_not_quack=p_duck_swim_not_quack, \n",
    "        p_duck_not_swim_not_quack=p_duck_not_swim_not_quack):\n",
    "\n",
    "    d = []\n",
    "    for s, q in zip(swims, quacks):\n",
    "        if (s and q):\n",
    "            d.append(p_duck_swim_quack)\n",
    "        elif (s and (not q)):\n",
    "            d.append(p_duck_swim_not_quack)\n",
    "        elif ((not s) and q):\n",
    "            d.append(p_duck_not_swim_quack)\n",
    "        elif ((not s) and (not q)):\n",
    "            d.append(p_duck_not_swim_not_quack)\n",
    "        else:\n",
    "            raise ValueError('this should never happen')\n",
    "            \n",
    "    return np.array(d).ravel()\n",
    "\n",
    "# AND FINALLY\n",
    "duck = pymc.Bernoulli('duck', p=duck_probability, observed=True, value=masked_duck_data, size=n)\n"
   ]
  },
  {
   "cell_type": "code",
   "execution_count": 155,
   "metadata": {
    "collapsed": false
   },
   "outputs": [],
   "source": [
    "# putting it all together\n",
    "model = pymc.Model([swims, quacks, duck])"
   ]
  },
  {
   "cell_type": "markdown",
   "metadata": {
    "collapsed": true
   },
   "source": [
    "## getting the result: method 1 - MAP\n",
    "\n",
    "initial values of all variables:"
   ]
  },
  {
   "cell_type": "code",
   "execution_count": 156,
   "metadata": {
    "collapsed": false
   },
   "outputs": [
    {
     "name": "stdout",
     "output_type": "stream",
     "text": [
      "[False False  True  True False False  True  True  True False]\n",
      "[False  True False  True False  True False  True False False]\n",
      "[False False False  True False False False  True False  True]\n",
      "[ 0.32001799]\n",
      "[ 0.47628556]\n",
      "[ 0.7691245]\n",
      "[ 0.61535582]\n"
     ]
    }
   ],
   "source": [
    "print swims.value\n",
    "print quacks.value\n",
    "print duck.value\n",
    "print swim_prior.value\n",
    "print quack_prior.value\n",
    "print p_duck_not_swim_quack.value\n",
    "print p_duck_swim_quack.value"
   ]
  },
  {
   "cell_type": "markdown",
   "metadata": {},
   "source": [
    "optimising values:"
   ]
  },
  {
   "cell_type": "code",
   "execution_count": 157,
   "metadata": {
    "collapsed": false
   },
   "outputs": [
    {
     "name": "stdout",
     "output_type": "stream",
     "text": [
      "Warning: Stochastic swims's value is neither numerical nor array with floating-point dtype. Recommend fitting method fmin (default).\n",
      "Warning: Stochastic quacks's value is neither numerical nor array with floating-point dtype. Recommend fitting method fmin (default).\n"
     ]
    }
   ],
   "source": [
    "pymc.MAP(model).fit(method='fmin')"
   ]
  },
  {
   "cell_type": "markdown",
   "metadata": {},
   "source": [
    "and now optimised values:"
   ]
  },
  {
   "cell_type": "code",
   "execution_count": 158,
   "metadata": {
    "collapsed": false
   },
   "outputs": [
    {
     "name": "stdout",
     "output_type": "stream",
     "text": [
      "[False False  True  True False False  True  True  True False]\n",
      "[False  True False  True False  True False  True False  True]\n",
      "[False False False  True False False False  True False  True]\n",
      "[ 0.33401878]\n",
      "[ 0.47628556]\n",
      "[ 0.7691245]\n",
      "[ 0.61535582]\n"
     ]
    }
   ],
   "source": [
    "print swims.value\n",
    "print quacks.value\n",
    "print duck.value\n",
    "print swim_prior.value\n",
    "print quack_prior.value\n",
    "print p_duck_not_swim_quack.value\n",
    "print p_duck_swim_quack.value"
   ]
  },
  {
   "cell_type": "markdown",
   "metadata": {},
   "source": [
    "in general parameter values seem to have moved in the right direction, and the values of the last unobserved 'swim' and 'quack' flipped from False to True. That is good. But The second t olast example actually flipped in the wrong direction\n",
    "\n",
    " ¯\\_(ツ)_/¯"
   ]
  },
  {
   "cell_type": "markdown",
   "metadata": {},
   "source": [
    "### getting the result: method 2 - MCMC\n",
    "sample with MCMC and look for most common values"
   ]
  },
  {
   "cell_type": "code",
   "execution_count": 159,
   "metadata": {
    "collapsed": false
   },
   "outputs": [
    {
     "name": "stdout",
     "output_type": "stream",
     "text": [
      " [-----------------100%-----------------] 10000 of 10000 complete in 4.1 sec"
     ]
    }
   ],
   "source": [
    "# this will generate (10000 - 8000) / 10 = 200 samples\n",
    "sampler = pymc.MCMC(model)\n",
    "sampler.sample(iter=10000, burn=8000, thin=10)"
   ]
  },
  {
   "cell_type": "markdown",
   "metadata": {},
   "source": [
    "where there was a single unobserved variable, we have 200 samples:"
   ]
  },
  {
   "cell_type": "code",
   "execution_count": 160,
   "metadata": {
    "collapsed": false
   },
   "outputs": [
    {
     "data": {
      "text/plain": [
       "(200, 1)"
      ]
     },
     "execution_count": 160,
     "metadata": {},
     "output_type": "execute_result"
    }
   ],
   "source": [
    "sampler.trace('P(swims)')[:].shape"
   ]
  },
  {
   "cell_type": "code",
   "execution_count": 161,
   "metadata": {
    "collapsed": false
   },
   "outputs": [
    {
     "data": {
      "text/plain": [
       "(200, 1)"
      ]
     },
     "execution_count": 161,
     "metadata": {},
     "output_type": "execute_result"
    }
   ],
   "source": [
    "sampler.trace('P(duck | not swims & quacks)')[:].shape"
   ]
  },
  {
   "cell_type": "markdown",
   "metadata": {},
   "source": [
    "where there was an observed variable with 2 missing values pymc created 2 unobserved variables and we have 200 samples for each:"
   ]
  },
  {
   "cell_type": "code",
   "execution_count": 162,
   "metadata": {
    "collapsed": false
   },
   "outputs": [
    {
     "data": {
      "text/plain": [
       "(200, 2)"
      ]
     },
     "execution_count": 162,
     "metadata": {},
     "output_type": "execute_result"
    }
   ],
   "source": [
    "sampler.trace('quacks')[:].shape"
   ]
  },
  {
   "cell_type": "code",
   "execution_count": 163,
   "metadata": {
    "collapsed": false
   },
   "outputs": [
    {
     "data": {
      "text/plain": [
       "(200, 1)"
      ]
     },
     "execution_count": 163,
     "metadata": {},
     "output_type": "execute_result"
    }
   ],
   "source": [
    "sampler.trace('swims')[:].shape"
   ]
  },
  {
   "cell_type": "markdown",
   "metadata": {},
   "source": [
    "duck didn't have any missing values, so there won't be any samples:"
   ]
  },
  {
   "cell_type": "code",
   "execution_count": 164,
   "metadata": {
    "collapsed": false
   },
   "outputs": [
    {
     "ename": "KeyError",
     "evalue": "'duck'",
     "output_type": "error",
     "traceback": [
      "\u001b[0;31m---------------------------------------------------------------------------\u001b[0m",
      "\u001b[0;31mKeyError\u001b[0m                                  Traceback (most recent call last)",
      "\u001b[0;32m<ipython-input-164-1e9c2cf619c9>\u001b[0m in \u001b[0;36m<module>\u001b[0;34m()\u001b[0m\n\u001b[0;32m----> 1\u001b[0;31m \u001b[0msampler\u001b[0m\u001b[0;34m.\u001b[0m\u001b[0mtrace\u001b[0m\u001b[0;34m(\u001b[0m\u001b[0;34m'duck'\u001b[0m\u001b[0;34m)\u001b[0m\u001b[0;34m[\u001b[0m\u001b[0;34m:\u001b[0m\u001b[0;34m]\u001b[0m\u001b[0;34m.\u001b[0m\u001b[0mshape\u001b[0m\u001b[0;34m\u001b[0m\u001b[0m\n\u001b[0m",
      "\u001b[0;32m/usr/local/lib/python2.7/dist-packages/pymc/Model.pyc\u001b[0m in \u001b[0;36mtrace\u001b[0;34m(self, name, chain)\u001b[0m\n\u001b[1;32m    838\u001b[0m         \"\"\"\n\u001b[1;32m    839\u001b[0m         \u001b[0;32mif\u001b[0m \u001b[0misinstance\u001b[0m\u001b[0;34m(\u001b[0m\u001b[0mname\u001b[0m\u001b[0;34m,\u001b[0m \u001b[0mstr\u001b[0m\u001b[0;34m)\u001b[0m\u001b[0;34m:\u001b[0m\u001b[0;34m\u001b[0m\u001b[0m\n\u001b[0;32m--> 840\u001b[0;31m             \u001b[0;32mreturn\u001b[0m \u001b[0mself\u001b[0m\u001b[0;34m.\u001b[0m\u001b[0mdb\u001b[0m\u001b[0;34m.\u001b[0m\u001b[0mtrace\u001b[0m\u001b[0;34m(\u001b[0m\u001b[0mname\u001b[0m\u001b[0;34m,\u001b[0m \u001b[0mchain\u001b[0m\u001b[0;34m)\u001b[0m\u001b[0;34m\u001b[0m\u001b[0m\n\u001b[0m\u001b[1;32m    841\u001b[0m         \u001b[0;32melif\u001b[0m \u001b[0misinstance\u001b[0m\u001b[0;34m(\u001b[0m\u001b[0mname\u001b[0m\u001b[0;34m,\u001b[0m \u001b[0mVariable\u001b[0m\u001b[0;34m)\u001b[0m\u001b[0;34m:\u001b[0m\u001b[0;34m\u001b[0m\u001b[0m\n\u001b[1;32m    842\u001b[0m             \u001b[0;32mreturn\u001b[0m \u001b[0mself\u001b[0m\u001b[0;34m.\u001b[0m\u001b[0mdb\u001b[0m\u001b[0;34m.\u001b[0m\u001b[0mtrace\u001b[0m\u001b[0;34m(\u001b[0m\u001b[0mname\u001b[0m\u001b[0;34m.\u001b[0m\u001b[0m__name__\u001b[0m\u001b[0;34m,\u001b[0m \u001b[0mchain\u001b[0m\u001b[0;34m)\u001b[0m\u001b[0;34m\u001b[0m\u001b[0m\n",
      "\u001b[0;32m/usr/local/lib/python2.7/dist-packages/pymc/database/base.pyc\u001b[0m in \u001b[0;36mtrace\u001b[0;34m(self, name, chain)\u001b[0m\n\u001b[1;32m    371\u001b[0m           \u001b[0mthe\u001b[0m \u001b[0mith\u001b[0m \u001b[0mcall\u001b[0m \u001b[0mto\u001b[0m \u001b[0;34m`\u001b[0m\u001b[0msample\u001b[0m\u001b[0;34m`\u001b[0m\u001b[0;34m.\u001b[0m\u001b[0;34m\u001b[0m\u001b[0m\n\u001b[1;32m    372\u001b[0m         \"\"\"\n\u001b[0;32m--> 373\u001b[0;31m         \u001b[0mtrace\u001b[0m \u001b[0;34m=\u001b[0m \u001b[0mcopy\u001b[0m\u001b[0;34m.\u001b[0m\u001b[0mcopy\u001b[0m\u001b[0;34m(\u001b[0m\u001b[0mself\u001b[0m\u001b[0;34m.\u001b[0m\u001b[0m_traces\u001b[0m\u001b[0;34m[\u001b[0m\u001b[0mname\u001b[0m\u001b[0;34m]\u001b[0m\u001b[0;34m)\u001b[0m\u001b[0;34m\u001b[0m\u001b[0m\n\u001b[0m\u001b[1;32m    374\u001b[0m         \u001b[0mtrace\u001b[0m\u001b[0;34m.\u001b[0m\u001b[0m_chain\u001b[0m \u001b[0;34m=\u001b[0m \u001b[0mchain\u001b[0m\u001b[0;34m\u001b[0m\u001b[0m\n\u001b[1;32m    375\u001b[0m         \u001b[0;32mreturn\u001b[0m \u001b[0mtrace\u001b[0m\u001b[0;34m\u001b[0m\u001b[0m\n",
      "\u001b[0;31mKeyError\u001b[0m: 'duck'"
     ]
    }
   ],
   "source": [
    "sampler.trace('duck')[:].shape"
   ]
  },
  {
   "cell_type": "markdown",
   "metadata": {},
   "source": [
    "let's get the the average prediction for paramters:"
   ]
  },
  {
   "cell_type": "code",
   "execution_count": 165,
   "metadata": {
    "collapsed": false
   },
   "outputs": [
    {
     "data": {
      "text/plain": [
       "0.25907298682219188"
      ]
     },
     "execution_count": 165,
     "metadata": {},
     "output_type": "execute_result"
    }
   ],
   "source": [
    "sampler.trace('P(duck | not swims & quacks)')[:].mean()"
   ]
  },
  {
   "cell_type": "code",
   "execution_count": 166,
   "metadata": {
    "collapsed": false
   },
   "outputs": [
    {
     "data": {
      "text/plain": [
       "0.74353922377038228"
      ]
     },
     "execution_count": 166,
     "metadata": {},
     "output_type": "execute_result"
    }
   ],
   "source": [
    "sampler.trace('P(duck | swims & quacks)')[:].mean()"
   ]
  },
  {
   "cell_type": "markdown",
   "metadata": {},
   "source": [
    "makes sense. \n",
    "\n",
    "And finally prediction for the missing values:"
   ]
  },
  {
   "cell_type": "code",
   "execution_count": 167,
   "metadata": {
    "collapsed": false
   },
   "outputs": [
    {
     "data": {
      "text/plain": [
       "array([ 0.23,  0.69])"
      ]
     },
     "execution_count": 167,
     "metadata": {},
     "output_type": "execute_result"
    }
   ],
   "source": [
    "sampler.trace('quacks')[:].mean(axis=0)"
   ]
  },
  {
   "cell_type": "code",
   "execution_count": 168,
   "metadata": {
    "collapsed": false
   },
   "outputs": [
    {
     "data": {
      "text/plain": [
       "array([ 0.725])"
      ]
     },
     "execution_count": 168,
     "metadata": {},
     "output_type": "execute_result"
    }
   ],
   "source": [
    "sampler.trace('swims')[:].mean(axis=0)"
   ]
  },
  {
   "cell_type": "markdown",
   "metadata": {},
   "source": [
    "These are all as expected!\n",
    "\n",
    "\n",
    "And this is how all the above steps can expressed succinctly using the utilities I developed:"
   ]
  },
  {
   "cell_type": "code",
   "execution_count": 171,
   "metadata": {
    "collapsed": false
   },
   "outputs": [
    {
     "name": "stdout",
     "output_type": "stream",
     "text": [
      "\r",
      " [-----------------100%-----------------] 500 of 500 complete in 0.2 sec"
     ]
    },
    {
     "data": {
      "text/html": [
       "<div>\n",
       "<table border=\"1\" class=\"dataframe\">\n",
       "  <thead>\n",
       "    <tr style=\"text-align: right;\">\n",
       "      <th></th>\n",
       "      <th>duck</th>\n",
       "      <th>quacks_like_a_duck</th>\n",
       "      <th>swims_like_a_duck</th>\n",
       "    </tr>\n",
       "  </thead>\n",
       "  <tbody>\n",
       "    <tr>\n",
       "      <th>0</th>\n",
       "      <td>0</td>\n",
       "      <td>0</td>\n",
       "      <td>0</td>\n",
       "    </tr>\n",
       "    <tr>\n",
       "      <th>1</th>\n",
       "      <td>0</td>\n",
       "      <td>1</td>\n",
       "      <td>0</td>\n",
       "    </tr>\n",
       "    <tr>\n",
       "      <th>2</th>\n",
       "      <td>0</td>\n",
       "      <td>0</td>\n",
       "      <td>1</td>\n",
       "    </tr>\n",
       "    <tr>\n",
       "      <th>3</th>\n",
       "      <td>1</td>\n",
       "      <td>1</td>\n",
       "      <td>1</td>\n",
       "    </tr>\n",
       "    <tr>\n",
       "      <th>4</th>\n",
       "      <td>0</td>\n",
       "      <td>0</td>\n",
       "      <td>0</td>\n",
       "    </tr>\n",
       "    <tr>\n",
       "      <th>5</th>\n",
       "      <td>0</td>\n",
       "      <td>1</td>\n",
       "      <td>0</td>\n",
       "    </tr>\n",
       "    <tr>\n",
       "      <th>6</th>\n",
       "      <td>0</td>\n",
       "      <td>0</td>\n",
       "      <td>1</td>\n",
       "    </tr>\n",
       "    <tr>\n",
       "      <th>7</th>\n",
       "      <td>1</td>\n",
       "      <td>1</td>\n",
       "      <td>1</td>\n",
       "    </tr>\n",
       "    <tr>\n",
       "      <th>8</th>\n",
       "      <td>0</td>\n",
       "      <td>0</td>\n",
       "      <td>1</td>\n",
       "    </tr>\n",
       "    <tr>\n",
       "      <th>9</th>\n",
       "      <td>1</td>\n",
       "      <td>1</td>\n",
       "      <td>1</td>\n",
       "    </tr>\n",
       "  </tbody>\n",
       "</table>\n",
       "</div>"
      ],
      "text/plain": [
       "   duck  quacks_like_a_duck  swims_like_a_duck\n",
       "0     0                   0                  0\n",
       "1     0                   1                  0\n",
       "2     0                   0                  1\n",
       "3     1                   1                  1\n",
       "4     0                   0                  0\n",
       "5     0                   1                  0\n",
       "6     0                   0                  1\n",
       "7     1                   1                  1\n",
       "8     0                   0                  1\n",
       "9     1                   1                  1"
      ]
     },
     "execution_count": 171,
     "metadata": {},
     "output_type": "execute_result"
    }
   ],
   "source": [
    "from dstk.pymc_utils import make_bernoulli, cartesian_bernoulli_child\n",
    "from dstk.imputation import BayesNetImputer\n",
    "\n",
    "class DuckImputer(BayesNetImputer):\n",
    "    def construct_net(self, df):\n",
    "        quacks = make_bernoulli('quacks_like_a_duck', value=df.quacks_like_a_duck)\n",
    "        swims = make_bernoulli('swims_like_a_duck', value=df.swims_like_a_duck)\n",
    "        duck = cartesian_bernoulli_child('duck', parents=[quacks, swims], value=df.duck)\n",
    "        return pymc.Model([quacks, swims, duck])\n",
    "    \n",
    "DuckImputer(method='MCMC').fit_transform(with_missing)"
   ]
  },
  {
   "cell_type": "code",
   "execution_count": 172,
   "metadata": {
    "collapsed": false
   },
   "outputs": [
    {
     "name": "stdout",
     "output_type": "stream",
     "text": [
      "Warning: Stochastic swims_like_a_duck's value is neither numerical nor array with floating-point dtype. Recommend fitting method fmin (default).\n",
      "Warning: Stochastic quacks_like_a_duck's value is neither numerical nor array with floating-point dtype. Recommend fitting method fmin (default).\n"
     ]
    },
    {
     "data": {
      "text/html": [
       "<div>\n",
       "<table border=\"1\" class=\"dataframe\">\n",
       "  <thead>\n",
       "    <tr style=\"text-align: right;\">\n",
       "      <th></th>\n",
       "      <th>duck</th>\n",
       "      <th>quacks_like_a_duck</th>\n",
       "      <th>swims_like_a_duck</th>\n",
       "    </tr>\n",
       "  </thead>\n",
       "  <tbody>\n",
       "    <tr>\n",
       "      <th>0</th>\n",
       "      <td>0</td>\n",
       "      <td>0</td>\n",
       "      <td>0</td>\n",
       "    </tr>\n",
       "    <tr>\n",
       "      <th>1</th>\n",
       "      <td>0</td>\n",
       "      <td>1</td>\n",
       "      <td>0</td>\n",
       "    </tr>\n",
       "    <tr>\n",
       "      <th>2</th>\n",
       "      <td>0</td>\n",
       "      <td>0</td>\n",
       "      <td>1</td>\n",
       "    </tr>\n",
       "    <tr>\n",
       "      <th>3</th>\n",
       "      <td>1</td>\n",
       "      <td>1</td>\n",
       "      <td>1</td>\n",
       "    </tr>\n",
       "    <tr>\n",
       "      <th>4</th>\n",
       "      <td>0</td>\n",
       "      <td>0</td>\n",
       "      <td>0</td>\n",
       "    </tr>\n",
       "    <tr>\n",
       "      <th>5</th>\n",
       "      <td>0</td>\n",
       "      <td>1</td>\n",
       "      <td>0</td>\n",
       "    </tr>\n",
       "    <tr>\n",
       "      <th>6</th>\n",
       "      <td>0</td>\n",
       "      <td>0</td>\n",
       "      <td>1</td>\n",
       "    </tr>\n",
       "    <tr>\n",
       "      <th>7</th>\n",
       "      <td>1</td>\n",
       "      <td>1</td>\n",
       "      <td>1</td>\n",
       "    </tr>\n",
       "    <tr>\n",
       "      <th>8</th>\n",
       "      <td>0</td>\n",
       "      <td>1</td>\n",
       "      <td>1</td>\n",
       "    </tr>\n",
       "    <tr>\n",
       "      <th>9</th>\n",
       "      <td>1</td>\n",
       "      <td>1</td>\n",
       "      <td>1</td>\n",
       "    </tr>\n",
       "  </tbody>\n",
       "</table>\n",
       "</div>"
      ],
      "text/plain": [
       "   duck  quacks_like_a_duck  swims_like_a_duck\n",
       "0     0                   0                  0\n",
       "1     0                   1                  0\n",
       "2     0                   0                  1\n",
       "3     1                   1                  1\n",
       "4     0                   0                  0\n",
       "5     0                   1                  0\n",
       "6     0                   0                  1\n",
       "7     1                   1                  1\n",
       "8     0                   1                  1\n",
       "9     1                   1                  1"
      ]
     },
     "execution_count": 172,
     "metadata": {},
     "output_type": "execute_result"
    }
   ],
   "source": [
    "DuckImputer(method='MAP').fit_transform(with_missing)"
   ]
  },
  {
   "cell_type": "code",
   "execution_count": null,
   "metadata": {
    "collapsed": true
   },
   "outputs": [],
   "source": []
  },
  {
   "cell_type": "code",
   "execution_count": null,
   "metadata": {
    "collapsed": true
   },
   "outputs": [],
   "source": []
  }
 ],
 "metadata": {
  "kernelspec": {
   "display_name": "Python 2",
   "language": "python",
   "name": "python2"
  },
  "language_info": {
   "codemirror_mode": {
    "name": "ipython",
    "version": 2
   },
   "file_extension": ".py",
   "mimetype": "text/x-python",
   "name": "python",
   "nbconvert_exporter": "python",
   "pygments_lexer": "ipython2",
   "version": "2.7.12"
  }
 },
 "nbformat": 4,
 "nbformat_minor": 2
}
